{
 "cells": [
  {
   "cell_type": "markdown",
   "source": [
    "# HW 5\n",
    "IS 527 Homework 5\n",
    "Hou-Chun Liu\n",
    "4 Apr. 2024"
   ],
   "metadata": {
    "collapsed": false
   },
   "id": "198757f36c6d784e"
  },
  {
   "cell_type": "code",
   "source": [
    "import random\n",
    "import matplotlib.pyplot as plt\n",
    "import networkx as nx\n",
    "import numpy as np\n",
    "from matplotlib.lines import Line2D"
   ],
   "metadata": {
    "collapsed": true,
    "ExecuteTime": {
     "end_time": "2024-04-18T15:17:21.189505Z",
     "start_time": "2024-04-18T15:17:20.675923Z"
    }
   },
   "id": "initial_id",
   "execution_count": 1,
   "outputs": []
  },
  {
   "cell_type": "code",
   "source": [
    "def draw(G, z):\n",
    "    # pos = nx.spring_layout(G=G, seed=42)\n",
    "\n",
    "    node_color = []\n",
    "    group_labels = ['Class 0', 'Class 1', 'Class 2']\n",
    "    colors = ['blue', 'red', 'yellow']\n",
    "    for i in range(len(G.nodes)):\n",
    "        node_color.append(colors[z[i]])\n",
    "\n",
    "    pos = nx.spring_layout(G, seed=42)  # You can use other layout functions as well\n",
    "    nx.draw_networkx_nodes(G, pos, node_color=node_color)\n",
    "    nx.draw_networkx_edges(G, pos)\n",
    "    nx.draw_networkx_labels(G, pos)\n",
    "\n",
    "    # Create proxy artists for the legend\n",
    "    proxy_artists = [Line2D([0], [0], marker='o', color=color, label=label, markerfacecolor=color, markersize=8)\n",
    "                     for color, label in zip(colors, group_labels)]\n",
    "\n",
    "    # Add legend\n",
    "    plt.legend(handles=proxy_artists, loc='upper right')\n",
    "    plt.show()"
   ],
   "metadata": {
    "collapsed": false,
    "ExecuteTime": {
     "end_time": "2024-04-18T15:17:21.205293Z",
     "start_time": "2024-04-18T15:17:21.190108Z"
    }
   },
   "id": "cc79c876d4713c9f",
   "execution_count": 2,
   "outputs": []
  },
  {
   "cell_type": "markdown",
   "source": [
    "### Graph G in Problem 3"
   ],
   "metadata": {
    "collapsed": false
   },
   "id": "3e560a2488915cb9"
  },
  {
   "cell_type": "code",
   "source": [
    "def init_G():\n",
    "    G = nx.Graph()\n",
    "    for i in range(0, 9):\n",
    "        G.add_node(i)\n",
    "    edges = [(0, 1), (0, 2), (0, 5), (0, 6), (0, 7), (0, 8), (2, 3), (2, 5), (3, 5), (4, 5)]\n",
    "    for edge in edges:\n",
    "        G.add_edge(edge[0], edge[1])\n",
    "    return G\n",
    "G = init_G()\n",
    "z_example = [0, 0, 1, 1, 1, 1, 0, 0, 0]\n",
    "print(\"=== Graph G in Problem 3 ===\")\n",
    "draw(G, z_example)"
   ],
   "metadata": {
    "collapsed": false,
    "ExecuteTime": {
     "end_time": "2024-04-18T15:17:21.332810Z",
     "start_time": "2024-04-18T15:17:21.206294Z"
    }
   },
   "id": "cf252f82e48c5388",
   "execution_count": 3,
   "outputs": []
  },
  {
   "cell_type": "markdown",
   "source": [
    "### (a) (15 pts) Write a function makeAMove() that implements the core logic of the algorithm:\n",
    "• Input: a graph G, a current partition zt, a number of groups c, and a binary “is-Frozen” vector f (if fi = 1, then i is “frozen”)\n",
    "• This function should loop over the n − t unfrozen nodes (those with fi = 0) and c − 1 possible single-node moves for each of those nodes and compute a log-likelihood of each combination.\n",
    "• Over that loop, it should track the single best log-likelihood L∗ and the corresponding ”best move,” i.e., a pair (i, zi) where zi is i’s new group label r.\n",
    "• Output: the final L∗ and the pair (i, zi ) the represent the change to zt that would yield L∗."
   ],
   "metadata": {
    "collapsed": false
   },
   "id": "1a429e3ca54eb59d"
  },
  {
   "cell_type": "code",
   "source": [
    "def makeAMove(g, z, c, is_frozen):\n",
    "    '''\n",
    "    Input: a graph G, a current partition zt, a number of groups c, and a binary “is-Frozen” vector f (if fi = 1, then i is “frozen”)\n",
    "• This function should loop over the n − t unfrozen nodes (those with fi = 0) and c − 1 possible single-node moves for each of those nodes and compute a log-likelihood of each combination.\n",
    "• Over that loop, it should track the single best log-likelihood L∗ and the corresponding ”best move,” i.e., a pair (i, zi) where zi is i’s new group label r.\n",
    "• Return:: the final L∗ and the pair (i, zi ) the represent the change to zt that would yield L∗.\n",
    "    '''\n",
    "    n = len(g.nodes)\n",
    "    max_likelihood = -np.inf\n",
    "    best_move = [None, None]\n",
    "    for i in range(n):\n",
    "        if is_frozen[i] == 1:\n",
    "            continue\n",
    "        old = z[i]\n",
    "        for zi in range(c):\n",
    "            z[i] = zi\n",
    "            L = log_likelihood(g, z, c)\n",
    "            if L >= max_likelihood:\n",
    "                max_likelihood = L\n",
    "                best_move[0] = i\n",
    "                best_move[1] = zi\n",
    "            z[i] = old\n",
    "    z[best_move[0]] = best_move[1]\n",
    "    return max_likelihood, best_move\n",
    "\n",
    "\n",
    "def log_likelihood(g, z, c):\n",
    "    kappa = {}\n",
    "    omega = {}\n",
    "    L = 0\n",
    "    for i in range(c):\n",
    "        kappa[i] = 0\n",
    "        omega[i] = {}\n",
    "        for j in range(c):\n",
    "            omega[i][j] = 0.001\n",
    "    for edge in g.edges():\n",
    "        lc = z[edge[0]]\n",
    "        rc = z[edge[1]]\n",
    "        omega[lc][rc] += 1\n",
    "        if lc != rc:\n",
    "            omega[rc][lc] += 1\n",
    "    for k in kappa.keys():\n",
    "        for s in omega[k].keys():\n",
    "            kappa[k] += omega[k][s]\n",
    "    # print(omega)\n",
    "    for r in range(c):\n",
    "        for s in range(r, c):\n",
    "            if omega[r][s] == 0:\n",
    "                print(r, s)\n",
    "                continue\n",
    "            L += omega[r][s] * np.log(omega[r][s] / (kappa[r] * kappa[s]))\n",
    "\n",
    "    return L\n"
   ],
   "metadata": {
    "collapsed": false,
    "ExecuteTime": {
     "end_time": "2024-04-18T15:17:21.348815Z",
     "start_time": "2024-04-18T15:17:21.333812Z"
    }
   },
   "id": "488a2b0b5f7fd831",
   "execution_count": 4,
   "outputs": []
  },
  {
   "cell_type": "markdown",
   "source": [
    "### Apply makeAMove() to the simple graph G in Problem 3, with c = 3, a random input partition zt, and fi = 0 for all i except f2 = 1."
   ],
   "metadata": {
    "collapsed": false
   },
   "id": "76ba7a904f2c2e82"
  },
  {
   "cell_type": "code",
   "source": [
    "c = 3\n",
    "is_frozen = [0 for i in range(len(G.nodes))]\n",
    "is_frozen[1] = 1\n",
    "z0 = [random.randint(0, 2) for i in range(len(G.nodes))]\n",
    "z = z0.copy()\n",
    "L, (i, zi) = makeAMove(G, z, c, is_frozen)"
   ],
   "metadata": {
    "collapsed": false,
    "ExecuteTime": {
     "end_time": "2024-04-18T15:17:21.364334Z",
     "start_time": "2024-04-18T15:17:21.349817Z"
    }
   },
   "id": "b9b15474d322857c",
   "execution_count": 5,
   "outputs": []
  },
  {
   "cell_type": "markdown",
   "source": [
    "### Provide a visualization of (i) the input graph G with its node labels zt and its log-likelihood under the DC-SBM"
   ],
   "metadata": {
    "collapsed": false
   },
   "id": "8c2b7b1a8faacf08"
  },
  {
   "cell_type": "code",
   "source": [
    "# Random Initialize\n",
    "print('=== Initial State ===')\n",
    "print(\"Random z:\", z0)\n",
    "print(f\"Initial Log-Likelihood = {round(log_likelihood(G, z0, c),2)}\")\n",
    "draw(G, z0)"
   ],
   "metadata": {
    "collapsed": false,
    "ExecuteTime": {
     "end_time": "2024-04-18T15:17:21.474846Z",
     "start_time": "2024-04-18T15:17:21.365331Z"
    }
   },
   "id": "248f9f315c3efbf",
   "execution_count": 6,
   "outputs": []
  },
  {
   "cell_type": "markdown",
   "source": [
    "### (ii) the graph G with node labels after applying the best move found and its DC-SBM log-likelihood."
   ],
   "metadata": {
    "collapsed": false
   },
   "id": "5a0b32ef3330a8d1"
  },
  {
   "cell_type": "code",
   "source": [
    "print(\"=== After one move ===\")\n",
    "print(\"z:\", z)\n",
    "print(f\"Log-Likelihood = {round(log_likelihood(G, z, c),2)}\")\n",
    "draw(G, z)"
   ],
   "metadata": {
    "collapsed": false,
    "ExecuteTime": {
     "end_time": "2024-04-18T15:17:21.600362Z",
     "start_time": "2024-04-18T15:17:21.475844Z"
    }
   },
   "id": "4d38fdef853dabc",
   "execution_count": 7,
   "outputs": []
  },
  {
   "cell_type": "markdown",
   "source": [
    "### (b) (15 pts) Write a function runOnePhase() that runs a single phase from start to finish, starting with an input partition z0 and and evaluates the algorithm’s convergence criteria:\n",
    "• Input: a graph G, an initial partition z0, and the number of groups c.\n",
    "• Output: the best partition of the phase z∗ and its correspond- ing DC-SBM log-likelihood L∗, a binary value h that indicates whether the halting criteria was met or not, and a list l that stores the n + 1 log-likelihood values for the n + 1 partitions con- sidered in the phase (this part is purely so that we can make a nice visualization of the algorithm’s progression).\n",
    "• Remember that when the phase begins, f is all zeros (all nodes unfrozen), and we call makeAMove() to decide which node to “freeze” in a given step of the phase.\n"
   ],
   "metadata": {
    "collapsed": false
   },
   "id": "981fcb6f224f7b48"
  },
  {
   "cell_type": "code",
   "source": [
    "def runOnePhase(g, z, c):\n",
    "    Ls = [log_likelihood(g, z, c)]\n",
    "    is_frozen = [0 for _ in range(len(g.nodes))]\n",
    "    z0 = z.copy()\n",
    "    h = False\n",
    "\n",
    "    for t in range(len(z)):\n",
    "        L, (i, zi) = makeAMove(g, z, c, is_frozen)\n",
    "        is_frozen[i] = 1\n",
    "        z[i] = zi\n",
    "        Ls.append(L)\n",
    "        # print(z)\n",
    "    if Ls[-1] <= Ls[0]:\n",
    "        h = True\n",
    "        z = z0.copy()\n",
    "        L = Ls[0]\n",
    "\n",
    "    Ls.append(L)\n",
    "    return z, h, L, Ls"
   ],
   "metadata": {
    "collapsed": false,
    "ExecuteTime": {
     "end_time": "2024-04-18T15:17:21.615360Z",
     "start_time": "2024-04-18T15:17:21.601363Z"
    }
   },
   "id": "eaa15083e87dd9b0",
   "execution_count": 8,
   "outputs": []
  },
  {
   "cell_type": "markdown",
   "source": [
    "### Apply runOnePhase() to the simple graph G in Problem 3, with c = 3, a random input partition z0."
   ],
   "metadata": {
    "collapsed": false
   },
   "id": "3883bb9af12536f3"
  },
  {
   "cell_type": "code",
   "source": [
    "G = init_G()\n",
    "z0 = [random.randint(0, 2) for i in range(len(G.nodes))]\n",
    "z = z0.copy()\n",
    "z, h, L, Ls = runOnePhase(G, z, c)"
   ],
   "metadata": {
    "collapsed": false,
    "ExecuteTime": {
     "end_time": "2024-04-18T15:17:21.631361Z",
     "start_time": "2024-04-18T15:17:21.616363Z"
    }
   },
   "id": "63381b55482a1bc6",
   "execution_count": 9,
   "outputs": []
  },
  {
   "cell_type": "markdown",
   "source": [
    "### Provide a visualization of (i) the input graph G with its node labels z0 and its log-likelihood under the DC-SBM"
   ],
   "metadata": {
    "collapsed": false
   },
   "id": "8bd3ba46fe2e4d7"
  },
  {
   "cell_type": "code",
   "source": [
    "print('=== Initial State ===')\n",
    "print(\"Random z:\", z0)\n",
    "print(f\"Initial Log-Likelihood = {round(log_likelihood(G, z0, c), 2)}\")\n",
    "draw(G, z0)"
   ],
   "metadata": {
    "collapsed": false,
    "ExecuteTime": {
     "end_time": "2024-04-18T15:17:21.803394Z",
     "start_time": "2024-04-18T15:17:21.632362Z"
    }
   },
   "id": "6b8974a0d158aa53",
   "execution_count": 10,
   "outputs": []
  },
  {
   "cell_type": "markdown",
   "source": [
    "### (ii) the graph G with node labels z∗ at the end of the phase and its DC-SBM log-likelihood L∗"
   ],
   "metadata": {
    "collapsed": false
   },
   "id": "799a737531115d0"
  },
  {
   "cell_type": "code",
   "source": [
    "print(\"=== After one phase ===\")\n",
    "print(\"z:\", z)\n",
    "print(f\"Log-Likelihood = {round(log_likelihood(G, z, c), 2)}\")\n",
    "draw(G, z)"
   ],
   "metadata": {
    "collapsed": false,
    "ExecuteTime": {
     "end_time": "2024-04-18T15:17:21.928911Z",
     "start_time": "2024-04-18T15:17:21.804396Z"
    }
   },
   "id": "46135d63ed631464",
   "execution_count": 11,
   "outputs": []
  },
  {
   "cell_type": "markdown",
   "source": [
    "### (iii) a plot of lt showing how the log-likelihood evolved over the course of the phase."
   ],
   "metadata": {
    "collapsed": false
   },
   "id": "fa371666dd7948f"
  },
  {
   "cell_type": "code",
   "source": [
    "plt.plot(Ls)\n",
    "plt.xlabel('$t$')\n",
    "plt.ylabel('$\\ell_t$')\n",
    "plt.title('Log-Likelihood through One Phase')"
   ],
   "metadata": {
    "collapsed": false,
    "ExecuteTime": {
     "end_time": "2024-04-18T15:17:22.151942Z",
     "start_time": "2024-04-18T15:17:21.929911Z"
    }
   },
   "id": "32895cba5ac65d6d",
   "execution_count": 12,
   "outputs": []
  },
  {
   "cell_type": "markdown",
   "source": [
    "### (c) (15 pts) Write a function fitDCSBM() that runs the full locally greedy heuristic.\n",
    "• Input: a graph G, a number of groups c, and the maximum of phases allowed T.\n",
    "• Output: the best partition z∗ and its log-likelihood L∗ found across all phases, an integer pc that counts the number of phases used, and a list l that stores the log-likelihood values for the pc(n + 1) steps taken across all phases (also purely to make a nice visualization of the algorithm’s progression)."
   ],
   "metadata": {
    "collapsed": false
   },
   "id": "4b5ff763285c9ab"
  },
  {
   "cell_type": "code",
   "source": [
    "def fitDCSBM(g, c, T):\n",
    "    z = [random.randint(0, c - 1) for i in range(len(g.nodes))]\n",
    "    Lss = []\n",
    "    pc = 0\n",
    "    for pc in range(T):\n",
    "        z, h, L, Ls = runOnePhase(g, z, c)\n",
    "        Lss += Ls\n",
    "        # print(result)\n",
    "        if h:\n",
    "            break\n",
    "    return z, Lss, pc"
   ],
   "metadata": {
    "collapsed": false,
    "ExecuteTime": {
     "end_time": "2024-04-18T15:17:22.167452Z",
     "start_time": "2024-04-18T15:17:22.152942Z"
    }
   },
   "id": "5aee68f58f9c613d",
   "execution_count": 13,
   "outputs": []
  },
  {
   "cell_type": "markdown",
   "source": [
    "### Apply fitDCSBM() to the simple graph G in Problem 3 with c = 3 and T = 30 phases at most."
   ],
   "metadata": {
    "collapsed": false
   },
   "id": "4f74f432c5cac8b7"
  },
  {
   "cell_type": "code",
   "source": [
    "T = 30\n",
    "c = 3\n",
    "G = init_G()\n",
    "z_star, Lss, pc = fitDCSBM(G, c, T)"
   ],
   "metadata": {
    "collapsed": false,
    "ExecuteTime": {
     "end_time": "2024-04-18T15:17:22.183453Z",
     "start_time": "2024-04-18T15:17:22.169456Z"
    }
   },
   "id": "1eb5ee8434df383b",
   "execution_count": 14,
   "outputs": []
  },
  {
   "cell_type": "markdown",
   "source": [
    "### (i) the graph G with final node labels z∗ and its DC-SBM log- likelihood L∗"
   ],
   "metadata": {
    "collapsed": false
   },
   "id": "4a687cf5372e5fc3"
  },
  {
   "cell_type": "code",
   "source": [
    "print(\"=== After fitting ===\")\n",
    "print(\"z:\", z_star)\n",
    "print(f\"Log-Likelihood = {round(log_likelihood(G, z_star, c),2 )}\")\n",
    "draw(G, z_star)"
   ],
   "metadata": {
    "collapsed": false,
    "ExecuteTime": {
     "end_time": "2024-04-18T15:17:22.309966Z",
     "start_time": "2024-04-18T15:17:22.183453Z"
    }
   },
   "id": "3ab2caefd8e7f0a4",
   "execution_count": 15,
   "outputs": []
  },
  {
   "cell_type": "markdown",
   "source": [
    "\n",
    "### (ii) a plot of lt showing how the log-likelihood evolved over the course of all the phases"
   ],
   "metadata": {
    "collapsed": false
   },
   "id": "2ac4baeb3b0e6897"
  },
  {
   "cell_type": "code",
   "source": [
    "plt.plot(Lss)\n",
    "plt.xlabel('$t$')\n",
    "plt.ylabel('$\\ell_t$')\n",
    "plt.title('Log-Likelihood through One Phase')\n",
    "print(z_star)"
   ],
   "metadata": {
    "collapsed": false,
    "ExecuteTime": {
     "end_time": "2024-04-18T15:17:22.434478Z",
     "start_time": "2024-04-18T15:17:22.310967Z"
    }
   },
   "id": "d033c1143c143bfd",
   "execution_count": 16,
   "outputs": []
  },
  {
   "cell_type": "markdown",
   "source": [
    "### (iii) report the κ vector and ω matrix for the final partition."
   ],
   "metadata": {
    "collapsed": false
   },
   "id": "da1f803fcfc470a9"
  },
  {
   "cell_type": "code",
   "source": [
    "def matrix(g, z, c):\n",
    "    kappa = {}\n",
    "    omega = {}\n",
    "    for i in range(c):\n",
    "        kappa[i] = 0\n",
    "        omega[i] = {}\n",
    "        for j in range(c):\n",
    "            omega[i][j] = 0\n",
    "    for edge in g.edges():\n",
    "        lc = z[edge[0]]\n",
    "        rc = z[edge[1]]\n",
    "        omega[lc][rc] += 1\n",
    "        if lc != rc:\n",
    "            omega[rc][lc] += 1\n",
    "    for k in kappa.keys():\n",
    "        for s in omega[k].keys():\n",
    "            kappa[k] += omega[k][s]\n",
    "    result = np.ndarray((c, c))\n",
    "    for r in range(c):\n",
    "        for s in range(c):\n",
    "            result[r][s] = omega[r][s]\n",
    "\n",
    "    return result, kappa\n",
    "\n",
    "\n",
    "result = matrix(G, z_star, c)\n",
    "print('=== omega ===')\n",
    "print(result[0])\n",
    "print('=== kappa ===')\n",
    "print(result[1])"
   ],
   "metadata": {
    "collapsed": false,
    "ExecuteTime": {
     "end_time": "2024-04-18T15:17:22.450484Z",
     "start_time": "2024-04-18T15:17:22.435479Z"
    }
   },
   "id": "f5f5e054d556ef14",
   "execution_count": 17,
   "outputs": []
  },
  {
   "cell_type": "markdown",
   "source": [],
   "metadata": {
    "collapsed": false
   },
   "id": "c55c420001730ed7"
  },
  {
   "cell_type": "markdown",
   "source": [
    "### Comment briefly on what you see in both the quality of the final partition and in the behavior of lt.\n",
    "Hint: How good a partition can you get? You may get a log-likelihood of −48.14 or so."
   ],
   "metadata": {
    "collapsed": false
   },
   "id": "922b01fabb85ba6c"
  },
  {
   "cell_type": "markdown",
   "source": [
    "The partition looks very good. From the line plot, you can see the likelihood increased over time. The highest log-likelihood I got is around -21.78. However, due to the randomness of the initial z, most of the time it would converge at an optimal of likelihood around -23. "
   ],
   "metadata": {
    "collapsed": false
   },
   "id": "ee80917d72a7aab1"
  },
  {
   "cell_type": "markdown",
   "source": [
    "### (d) (15 pts) Write a function that repeatedly applies fitDCSBM() to the Zachary karate club network, and tracks the best output over repe- titions. (Although the algorithm itself is deterministic, it begins at a random initial partition, and so re-running the algorithm many times allows us to sample different local optima, looking for a good one.) Tinker with the number of repetitions needed to obtain the optimal"
   ],
   "metadata": {
    "collapsed": false
   },
   "id": "c3b1c882f677a4aa"
  },
  {
   "cell_type": "code",
   "source": [
    "def draw_c(G, z, c):\n",
    "    # pos = nx.spring_layout(G=G, seed=42)\n",
    "\n",
    "    node_color = []\n",
    "    group_labels = [f'Class {i}' for i in range(c)]\n",
    "    colors = ['blue', 'red', 'pink', 'orange', 'green', 'yellow', 'cyan', 'magenta', 'white', 'purple']\n",
    "    colors = colors[0:c]\n",
    "    # print(colors)\n",
    "    for i in range(len(G.nodes)):\n",
    "        node_color.append(colors[z[i]])\n",
    "\n",
    "    pos = nx.spring_layout(G, seed=42)  # You can use other layout functions as well\n",
    "    nx.draw_networkx_nodes(G, pos, node_color=node_color)\n",
    "    nx.draw_networkx_edges(G, pos)\n",
    "    nx.draw_networkx_labels(G, pos)\n",
    "\n",
    "    # Create proxy artists for the legend\n",
    "    proxy_artists = [Line2D([0], [0], marker='o', color=color, label=label, markerfacecolor=color, markersize=8)\n",
    "                     for color, label in zip(colors, group_labels)]\n",
    "\n",
    "    # Add legend\n",
    "    plt.legend(handles=proxy_artists, loc='upper right')\n",
    "    plt.show()"
   ],
   "metadata": {
    "collapsed": false,
    "ExecuteTime": {
     "end_time": "2024-04-18T15:17:22.465994Z",
     "start_time": "2024-04-18T15:17:22.451485Z"
    }
   },
   "id": "e753f4dd3e48b32d",
   "execution_count": 18,
   "outputs": []
  },
  {
   "cell_type": "code",
   "source": [
    "import numpy as np\n",
    "import matplotlib.pyplot as plt\n",
    "import networkx as nx\n",
    "# Load Karate Club graph\n",
    "karate_club_graph = nx.karate_club_graph()\n",
    "\n",
    "# Community assignment on the Karate Club graph\n",
    "node_community_list = [0, 0, 0, 0, 0, 0, 0, 0, 0, 1, 0, 0, 0, 0, 1, 1, 0, 0, 1, 0, 1, 0, 1, 1, 1, 1, 1, 1, 1, 1, 1, 1, 1, 1]\n",
    "node_community_map = {}\n",
    "for i in range(len(node_community_list)):\n",
    "    node_community_map[i] = node_community_list[i]\n",
    "\n",
    "# Assigning colors to nodes based on their community\n",
    "colors = [node_community_map[node] for node in karate_club_graph.nodes()]\n",
    "print(\"=== Initial ===\")\n",
    "print(\"z:\", node_community_list)\n",
    "print(f\"Log-Likelihood = {round(log_likelihood(karate_club_graph, node_community_list, 2),2 )}\")\n",
    "# Plotting the graph with nodes colored by community\n",
    "pos2 = nx.spring_layout(karate_club_graph,seed = 42)\n",
    "plt.figure(figsize=(8, 6))\n",
    "nx.draw_networkx(karate_club_graph, pos=pos2, node_color=colors, with_labels=True)\n",
    "plt.title(\"Karate Club Graph\")"
   ],
   "metadata": {
    "collapsed": false,
    "ExecuteTime": {
     "end_time": "2024-04-18T15:17:22.656019Z",
     "start_time": "2024-04-18T15:17:22.466996Z"
    }
   },
   "id": "75a252b37544e91a",
   "execution_count": 19,
   "outputs": []
  },
  {
   "metadata": {
    "ExecuteTime": {
     "end_time": "2024-04-18T15:17:22.720021Z",
     "start_time": "2024-04-18T15:17:22.657021Z"
    }
   },
   "cell_type": "code",
   "source": [
    "import _pickle as cPickle\n",
    "with open(r\"graphs/graph_fixed_attr.pickle\", \"rb\") as input_file:\n",
    "    G = cPickle.load(input_file)\n",
    "G = nx.convert_node_labels_to_integers(G)"
   ],
   "id": "764c9ddf8e81fc7f",
   "execution_count": 20,
   "outputs": []
  },
  {
   "cell_type": "code",
   "source": [
    "T = 30\n",
    "c = 7\n",
    "trials = 10\n",
    "def detect_community(g, c, T, trials):\n",
    "    best_ls = -np.inf\n",
    "    Lsss = []\n",
    "    for i in range(trials):\n",
    "        z_star, Lss, pc = fitDCSBM(g, c, T)\n",
    "        Lsss.append(max(Lss))\n",
    "        if max(Lss)> best_ls:\n",
    "            count = i\n",
    "            best_ls = max(Lss)\n",
    "            best_z = z_star.copy()\n",
    "    return Lsss, best_ls, best_z, count\n",
    "Lsss, best_ls, best_z, count = detect_community(G, c, T, trials)"
   ],
   "metadata": {
    "collapsed": false,
    "ExecuteTime": {
     "end_time": "2024-04-18T18:18:56.437309Z",
     "start_time": "2024-04-18T15:17:22.721020Z"
    }
   },
   "id": "9ce69892d2b2fd8c",
   "execution_count": 21,
   "outputs": []
  },
  {
   "metadata": {
    "ExecuteTime": {
     "end_time": "2024-04-18T18:38:45.952326Z",
     "start_time": "2024-04-18T18:38:43.064763Z"
    }
   },
   "cell_type": "code",
   "source": [
    "\n",
    "\n",
    "# Community assignment on the Karate Club graph\n",
    "node_community_list = [0, 0, 0, 0, 0, 0, 0, 0, 0, 1, 0, 0, 0, 0, 1, 1, 0, 0, 1, 0, 1, 0, 1, 1, 1, 1, 1, 1, 1, 1, 1, 1, 1, 1]\n",
    "node_community_map = {}\n",
    "for i in range(len(best_z)):\n",
    "    node_community_map[i] = best_z[i]\n",
    "\n",
    "# Assigning colors to nodes based on their community\n",
    "colors = [best_z[node] for node in G.nodes()]\n",
    "print(\"=== Initial ===\")\n",
    "print(\"z:\", node_community_list)\n",
    "# print(f\"Log-Likelihood = {round(log_likelihood(G, best_z, 2),2 )}\")\n",
    "# Plotting the graph with nodes colored by community\n",
    "x = dict(nx.get_node_attributes(G, 'x'))\n",
    "y = dict(nx.get_node_attributes(G, 'y'))\n",
    "pos = {}\n",
    "KM = nx.get_edge_attributes(G, 'KM')\n",
    "name = nx.get_node_attributes(G, 'name')\n",
    "KM = {i: round(KM[i], 2) for i in KM}\n",
    "for i in x:\n",
    "    pos[i] = (x[i], y[i])\n",
    "plt.figure(figsize=(75, 45))\n",
    "nx.draw_networkx(G, pos=pos, node_color=colors, with_labels=True)\n",
    "plt.title(\"G\")\n",
    "plt.savefig(\"plots/G.png\")"
   ],
   "id": "b78ef024ac1e0829",
   "execution_count": 26,
   "outputs": []
  }
 ],
 "metadata": {
  "kernelspec": {
   "display_name": "Python 3",
   "language": "python",
   "name": "python3"
  },
  "language_info": {
   "codemirror_mode": {
    "name": "ipython",
    "version": 2
   },
   "file_extension": ".py",
   "mimetype": "text/x-python",
   "name": "python",
   "nbconvert_exporter": "python",
   "pygments_lexer": "ipython2",
   "version": "2.7.6"
  }
 },
 "nbformat": 4,
 "nbformat_minor": 5
}
